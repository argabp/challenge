{
 "cells": [
  {
   "cell_type": "markdown",
   "metadata": {},
   "source": [
    "# Arga Bagus Priambodo (AIA)"
   ]
  },
  {
   "cell_type": "markdown",
   "metadata": {},
   "source": [
    "# Import library yang dibutuhkan dan atur default plot"
   ]
  },
  {
   "cell_type": "code",
   "execution_count": 1,
   "metadata": {},
   "outputs": [
    {
     "name": "stderr",
     "output_type": "stream",
     "text": [
      "C:\\Users\\USER\\Anaconda3\\lib\\site-packages\\h5py\\__init__.py:36: FutureWarning: Conversion of the second argument of issubdtype from `float` to `np.floating` is deprecated. In future, it will be treated as `np.float64 == np.dtype(float).type`.\n",
      "  from ._conv import register_converters as _register_converters\n",
      "Using TensorFlow backend.\n"
     ]
    }
   ],
   "source": [
    "import time\n",
    "start_time = time.time()\n",
    "import numpy as np\n",
    "import matplotlib.pyplot as plt\n",
    "from collections import Counter\n",
    "import time\n",
    "import pandas as pd\n",
    "\n",
    "%matplotlib inline\n",
    "plt.rcParams['figure.figsize'] = (10.0, 8.0)\n",
    "plt.rcParams['image.interpolation'] = 'nearest'\n",
    "plt.rcParams['image.cmap'] = 'gray'"
   ]
  },
  {
   "cell_type": "markdown",
   "metadata": {},
   "source": [
    "# Load Data"
   ]
  },
  {
   "cell_type": "code",
   "execution_count": 18,
   "metadata": {},
   "outputs": [],
   "source": [
    "train_data = pd.read_csv('mnist_train.csv',header=None)\n",
    "test_data = pd.read_csv('mnist_test.csv',header=None)\n"
   ]
  },
  {
   "cell_type": "markdown",
   "metadata": {},
   "source": [
    "# Potong data menjadi data train 1000 dan data test 100"
   ]
  },
  {
   "cell_type": "code",
   "execution_count": 19,
   "metadata": {},
   "outputs": [],
   "source": [
    "train_data = train_data[:10000]\n",
    "test_data = test_data[:1000]"
   ]
  },
  {
   "cell_type": "markdown",
   "metadata": {},
   "source": [
    "# Split data"
   ]
  },
  {
   "cell_type": "code",
   "execution_count": 20,
   "metadata": {},
   "outputs": [],
   "source": [
    "y_train = train_data[0]\n",
    "x_train = train_data.iloc[:,1:]\n",
    "y_test = test_data[0]\n",
    "x_test = test_data.iloc[:,1:]"
   ]
  },
  {
   "cell_type": "code",
   "execution_count": 21,
   "metadata": {},
   "outputs": [
    {
     "name": "stdout",
     "output_type": "stream",
     "text": [
      "(10000,) (10000, 784) (1000,) (1000, 784)\n"
     ]
    }
   ],
   "source": [
    "print(y_train.shape, x_train.shape, y_test.shape, x_test.shape)"
   ]
  },
  {
   "cell_type": "markdown",
   "metadata": {},
   "source": [
    "# Visualisasi Output dan Class"
   ]
  },
  {
   "cell_type": "code",
   "execution_count": 22,
   "metadata": {},
   "outputs": [],
   "source": [
    "# classes = np.unique(y_train)\n",
    "# nClasses = len(classes)\n",
    "# print('Total output : ', nClasses)\n",
    "# print('Output class : ', classes)\n",
    "\n",
    "# sample = 8\n",
    "# for y, cls in enumerate(classes):\n",
    "#     idxs = np.nonzero([i == y for i in y_train])\n",
    "#     idxs = np.random.choice(idxs[0], sample, replace=False)\n",
    "#     for i , idx in enumerate(idxs):\n",
    "#         plt_idx = i * nClasses + y + 1\n",
    "#         plt.subplot(sample, nClasses, plt_idx)\n",
    "#         plt.imshow(x_train.iloc[idx].values.reshape((28, 28)))\n",
    "#         plt.axis(\"off\")\n",
    "#         if i == 0:\n",
    "#             plt.title(cls)\n",
    "        \n",
    "\n",
    "# plt.show()"
   ]
  },
  {
   "cell_type": "markdown",
   "metadata": {},
   "source": [
    "# KKN menggunakan CS231N compute_distance_no_loop"
   ]
  },
  {
   "cell_type": "code",
   "execution_count": 38,
   "metadata": {},
   "outputs": [
    {
     "name": "stdout",
     "output_type": "stream",
     "text": [
      "Computing batch 1/20...\n",
      "Completed this batch in 17.826701164245605 Secs.\n",
      "Computing batch 2/20...\n",
      "Completed this batch in 17.672029495239258 Secs.\n",
      "Computing batch 3/20...\n",
      "Completed this batch in 17.68517017364502 Secs.\n",
      "Computing batch 4/20...\n",
      "Completed this batch in 17.702520608901978 Secs.\n",
      "Computing batch 5/20...\n",
      "Completed this batch in 17.721091985702515 Secs.\n",
      "Computing batch 6/20...\n",
      "Completed this batch in 17.653398036956787 Secs.\n",
      "Computing batch 7/20...\n",
      "Completed this batch in 17.702630519866943 Secs.\n",
      "Computing batch 8/20...\n",
      "Completed this batch in 17.6274151802063 Secs.\n",
      "Computing batch 9/20...\n",
      "Completed this batch in 17.607550144195557 Secs.\n",
      "Computing batch 10/20...\n",
      "Completed this batch in 17.624815940856934 Secs.\n",
      "Computing batch 11/20...\n",
      "Completed this batch in 17.64376997947693 Secs.\n",
      "Computing batch 12/20...\n",
      "Completed this batch in 17.697282552719116 Secs.\n",
      "Computing batch 13/20...\n",
      "Completed this batch in 17.601141691207886 Secs.\n",
      "Computing batch 14/20...\n",
      "Completed this batch in 17.63363242149353 Secs.\n",
      "Computing batch 15/20...\n",
      "Completed this batch in 17.59074854850769 Secs.\n",
      "Computing batch 16/20...\n",
      "Completed this batch in 17.653421640396118 Secs.\n",
      "Computing batch 17/20...\n",
      "Completed this batch in 17.62070870399475 Secs.\n",
      "Computing batch 18/20...\n",
      "Completed this batch in 17.67000412940979 Secs.\n",
      "Computing batch 19/20...\n",
      "Completed this batch in 17.916417598724365 Secs.\n",
      "Computing batch 20/20...\n",
      "Completed this batch in 17.756065130233765 Secs.\n",
      "Completed predicting the test data.\n"
     ]
    }
   ],
   "source": [
    "# atur batch dan jumlah k\n",
    "batch_size = 50\n",
    "k = 3\n",
    "predictions = []\n",
    "\n",
    "for i in range(int(len(x_test)/(batch_size))):\n",
    "    X = x_test[i * batch_size:(i+1) * batch_size]\n",
    "#     prediksi data train dari i * batch_size to (i+1) * batch_size\n",
    "    print(\"Computing batch \" + str(i+1) + \"/\" + str(int(len(x_test)/batch_size)) + \"...\")\n",
    "    \n",
    "    tic = time.time()\n",
    "    \n",
    "    num_test = X.shape[0]\n",
    "    num_train = x_train.shape[0]\n",
    "\n",
    "#     compute_distance_no_loop\n",
    "    dot_pro = np.dot(X, x_train.T)\n",
    "    sum_square_test = np.square(X).sum(axis = 1)\n",
    "    sum_square_train = np.square(x_train).sum(axis = 1)\n",
    "    dists = np.sqrt(-2 * dot_pro + sum_square_train.values + np.matrix(sum_square_test).T)\n",
    "    num_test = dists.shape[0]\n",
    "    y_pred = np.zeros(num_test)\n",
    "\n",
    "    for i in range(num_test):\n",
    "        k_closest_y = []\n",
    "        labels = y_train.values[np.argsort(dists[i,:])].flatten()\n",
    "        # cari k label terdekat\n",
    "        k_closest_y = labels[:k]\n",
    "        c = Counter(k_closest_y)\n",
    "        y_pred[i] = c.most_common(1)[0][0]\n",
    "    \n",
    "    toc = time.time()\n",
    "    \n",
    "    predictions = predictions + list(y_pred)\n",
    "#     print(\"Len of predictions: \" + str(len(predictions)))\n",
    "    print(\"Completed this batch in \" + str(toc-tic) + \" Secs.\")\n",
    "print(\"Completed predicting the test data.\")"
   ]
  },
  {
   "cell_type": "markdown",
   "metadata": {},
   "source": [
    "# Cari Akurasi"
   ]
  },
  {
   "cell_type": "code",
   "execution_count": 39,
   "metadata": {},
   "outputs": [
    {
     "name": "stdout",
     "output_type": "stream",
     "text": [
      "92.2\n"
     ]
    }
   ],
   "source": [
    "correct = 0\n",
    "for x in range(len\n",
    "               (y_test)):\n",
    "    if y_test.values[x] == predictions[x]:\n",
    "        correct += 1\n",
    "print((correct/float(len(y_test))) * 100.0)"
   ]
  },
  {
   "cell_type": "markdown",
   "metadata": {},
   "source": [
    "# Visualisasi Akurasi"
   ]
  },
  {
   "cell_type": "code",
   "execution_count": null,
   "metadata": {
    "scrolled": true
   },
   "outputs": [],
   "source": [
    "# images_and_predictions = list(zip(x_test.values, predictions))\n",
    "# for index, (image, prediction) in enumerate(images_and_predictions[20:24]):\n",
    "#     plt.subplot(2, 4, index + 5)\n",
    "#     plt.axis('off')\n",
    "#     plt.imshow(image.reshape((28,28)), cmap=plt.cm.gray_r, interpolation='nearest')\n",
    "#     plt.title('Prediction: %i' % prediction)\n",
    "\n",
    "# plt.show()"
   ]
  },
  {
   "cell_type": "code",
   "execution_count": null,
   "metadata": {},
   "outputs": [],
   "source": [
    "print(\"--- %s seconds ---\" % (time.time() - start_time))"
   ]
  }
 ],
 "metadata": {
  "kernelspec": {
   "display_name": "Python 3",
   "language": "python",
   "name": "python3"
  },
  "language_info": {
   "codemirror_mode": {
    "name": "ipython",
    "version": 3
   },
   "file_extension": ".py",
   "mimetype": "text/x-python",
   "name": "python",
   "nbconvert_exporter": "python",
   "pygments_lexer": "ipython3",
   "version": "3.6.5"
  }
 },
 "nbformat": 4,
 "nbformat_minor": 2
}
